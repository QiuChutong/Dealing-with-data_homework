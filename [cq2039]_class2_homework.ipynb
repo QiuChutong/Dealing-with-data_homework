{
  "cells": [
    {
      "cell_type": "markdown",
      "metadata": {
        "id": "DhnJBkxVl7V8"
      },
      "source": [
        "## To submit this assignment, please answer the following questions. Then, save your notebook with the format [NETID]\\_class2_homework and submit via Brightspace. "
      ]
    },
    {
      "cell_type": "markdown",
      "metadata": {
        "id": "E8v_MDWXl7V9"
      },
      "source": [
        "---"
      ]
    },
    {
      "cell_type": "markdown",
      "metadata": {
        "id": "dsaGdppzl7V-"
      },
      "source": [
        "### Problem One (4 points): \n",
        "Write a program that converts a Celsius temperature to Farhenheit and vice-versa. \n",
        "\n",
        "> 3 points: Your program must ask a user to input a temperature and a measurement system, and then tell the user the converted temperature. Your program must also handle situations when users enter incorrect information.\n",
        "\n",
        "> 1 point: Explain, step-by-step, what your solution for Problem \\#1 is doing by adding comments in your code above."
      ]
    },
    {
      "cell_type": "code",
      "execution_count": 1,
      "metadata": {
        "id": "3wsioGN4l7V-",
        "colab": {
          "base_uri": "https://localhost:8080/"
        },
        "outputId": "e0d65596-f0ad-4622-db36-c9821ab1f2b0"
      },
      "outputs": [
        {
          "output_type": "stream",
          "name": "stdout",
          "text": [
            "What is your measurement system?\n",
            "farhenheit\n",
            "What is the temperature?\n",
            "50\n",
            "50 farhenheit = 10.0 celsius\n"
          ]
        }
      ],
      "source": [
        "# your code here\n",
        "#get measurement system\n",
        "#change the measurement system to lower case\n",
        "print(\"What is your measurement system?\")\n",
        "measurement_system = str(input()).lower()\n",
        "#if measurement system is neither farhenheit nor celsius, print reminder and end code\n",
        "if measurement_system != \"farhenheit\" and measurement_system != \"celsius\":\n",
        "  print(\"You entered incorrect measurement system, please enter farhenheit or celsius\")\n",
        "else:\n",
        "  #if enter a right measurement system\n",
        "  #get temperature\n",
        "  print(\"What is the temperature?\")\n",
        "  temperature = input()\n",
        "  #if temperature is neither float nor integer, it means something wrong is entered\n",
        "  #print reminder\n",
        "  if not temperature.isdigit() and not temperature.replace(\".\",\"\").isdigit():\n",
        "    print(\"Please enter a number as temperature\")\n",
        "    #if temperature is a number, then the code can calculate the conversion\n",
        "  else:\n",
        "    if measurement_system == \"farhenheit\":\n",
        "      #convert farhenheit to celsius\n",
        "      #(°F − 32) × 5/9 = -17.22°C\n",
        "      output_temperature = (float(temperature) - 32) * (5/9)\n",
        "      #print result\n",
        "      print(str(temperature),measurement_system,\"=\",str(output_temperature),\"celsius\")\n",
        "    elif measurement_system == \"celsius\":\n",
        "      #convert celsius to farhenheit\n",
        "      #(°C × 9/5) + 32 = 33.8°F\n",
        "      output_temperature = (float(temperature) * (9/5)) + 32\n",
        "      #print result\n",
        "      print(str(temperature),measurement_system,\"=\",str(output_temperature),\"farhenheit\")\n"
      ]
    },
    {
      "cell_type": "markdown",
      "metadata": {
        "id": "Y8R-8lJYl7V_"
      },
      "source": [
        "---"
      ]
    },
    {
      "cell_type": "markdown",
      "metadata": {
        "id": "I3dHEr4Vl7WA"
      },
      "source": [
        "### Problem Two (2 points): \n",
        "\n",
        "Fix the errors in the code below to make the program work and add comments to the code to explain your fixes."
      ]
    },
    {
      "cell_type": "code",
      "execution_count": 3,
      "metadata": {
        "id": "B-rnQj_Ml7WA",
        "colab": {
          "base_uri": "https://localhost:8080/"
        },
        "outputId": "8acc296c-9573-4f52-8375-e0f2a90dce93"
      },
      "outputs": [
        {
          "output_type": "stream",
          "name": "stdout",
          "text": [
            "user 1: what is your password?\n",
            "cancel\n",
            "user 2: what is your password?\n",
            "confirm\n",
            "success! the bank transaction is cancelled!\n"
          ]
        }
      ],
      "source": [
        "# this program requires two users to enter their passwords to cancel a banking transaction\n",
        "\n",
        "print(\"user 1: what is your password?\")\n",
        "#variable names cannot start with numbers\n",
        "first_user_password = input()\n",
        "#variable names cannot start with numbers\n",
        "#equality operator for comparison is ==\n",
        "#if statement preceeded by a colon, :\n",
        "if first_user_password == \"cancel\":\n",
        "  #string need \"\", but \"user 2: what is your password? lack the right side\n",
        "    print(\"user 2: what is your password?\")\n",
        "    #this is not a comparison, this is a variable wait for input\n",
        "    second_user_password = input()\n",
        "    #equality operator for comparison is ==\n",
        "    if second_user_password == \"confirm\":\n",
        "        print(\"success! the bank transaction is cancelled!\")\n",
        "    #else also preceeded by a colon, :\n",
        "    else:\n",
        "      #the string has different type of \"\"\n",
        "        print(\"wrong password! locking system.\")\n",
        "else:\n",
        "    print(\"wrong password! locking system.\")"
      ]
    },
    {
      "cell_type": "markdown",
      "metadata": {
        "id": "FMuvsvT6l7WA"
      },
      "source": [
        "---"
      ]
    },
    {
      "cell_type": "markdown",
      "metadata": {
        "id": "vI43r7npl7WB"
      },
      "source": [
        "### Problem Three (4 points): \n",
        "\n",
        "Identify a routine task that you perform for school or work that you could automate based on the Python you've learned so far. \n",
        "\n",
        "> 1 point: Describe the task, its inputs, its ouptuts, and the benefit/value automating the task could provide to you. \n",
        "\n"
      ]
    },
    {
      "cell_type": "markdown",
      "metadata": {
        "id": "RG_gvPOhl7WB"
      },
      "source": [
        "I can use python to do my schedule.\n",
        "\n",
        "Input:\n",
        "\n",
        "Input1: the content of a new task\n",
        "\n",
        "Input2: the due day of this new task\n",
        "\n",
        "\n",
        "Output:\n",
        "\n",
        "My schedule, all the task sorted by due date\n",
        "\n",
        "Benefit:\n",
        "\n",
        "I can directly generate a concise and clear schedule in chronological order, avoiding the smearing and confusion of handwritten schedules"
      ]
    },
    {
      "cell_type": "markdown",
      "metadata": {
        "id": "6lD6zVSJl7WB"
      },
      "source": [
        "> 3 points: Develop a Python script to simulate automating that task. Use what you know to supplement what you haven't learned already. For example, since we have not yet learned how to ouptut/save a file to your computer, \"fake\" the file output by using a print() statement.\n"
      ]
    },
    {
      "cell_type": "code",
      "execution_count": 4,
      "metadata": {
        "id": "NwnJV7C3l7WB",
        "colab": {
          "base_uri": "https://localhost:8080/"
        },
        "outputId": "b8c07cf4-ef2f-439e-dd24-372a332f9947"
      },
      "outputs": [
        {
          "output_type": "stream",
          "name": "stdout",
          "text": [
            "Please enter the task content. If there is no new task to add, please enter 'None'\n",
            "assignment3 for dcn\n",
            "Please enter the due date\n",
            "Please enter due year\n",
            "2022\n",
            "Please enter due month\n",
            "2\n",
            "Please enter due day\n",
            "28\n",
            "Due date of this task: 2022-02-28\n",
            "Please enter the task content. If there is no new task to add, please enter 'None'\n",
            "assignment4 for dcn\n",
            "Please enter the due date\n",
            "Please enter due year\n",
            "2022\n",
            "Please enter due month\n",
            "3\n",
            "Please enter due day\n",
            "7\n",
            "Due date of this task: 2022-03-07\n",
            "Please enter the task content. If there is no new task to add, please enter 'None'\n",
            "homework2 for dma\n",
            "Please enter the due date\n",
            "Please enter due year\n",
            "2022\n",
            "Please enter due month\n",
            "3\n",
            "Please enter due day\n",
            "2\n",
            "Due date of this task: 2022-03-02\n",
            "Please enter the task content. If there is no new task to add, please enter 'None'\n",
            "homework1 for dwd\n",
            "Please enter the due date\n",
            "Please enter due year\n",
            "2022\n",
            "Please enter due month\n",
            "2\n",
            "Please enter due day\n",
            "24\n",
            "Due date of this task: 2022-02-24\n",
            "Please enter the task content. If there is no new task to add, please enter 'None'\n",
            "None\n",
            "\n",
            "\n",
            "This is my schedule:\n",
            "               content         due\n",
            "0    homework1 for dwd  2022-02-24\n",
            "1  assignment3 for dcn  2022-02-28\n",
            "2    homework2 for dma  2022-03-02\n",
            "3  assignment4 for dcn  2022-03-07\n"
          ]
        }
      ],
      "source": [
        "# your code here\n",
        "import pandas as pd\n",
        "import datetime\n",
        "\n",
        "#the list for the entire schedule\n",
        "task = []\n",
        "\n",
        "#add new task to my schedule\n",
        "while True:\n",
        "  #the list for each small task, mid_task is empty before each loop\n",
        "  mid_task = []\n",
        "  #input the content and due of a new task\n",
        "  print(\"Please enter the task content. If there is no new task to add, please enter 'None'\")\n",
        "  new_task_content = input()\n",
        "  mid_task.append(new_task_content)\n",
        "  #if new_task_content = None, it means there is no new task added, stop input\n",
        "  if new_task_content == \"None\":\n",
        "    break\n",
        "  ##enter numbers as the due date, else show error reminder and re-enter the due date\n",
        "  print(\"Please enter the due date\")\n",
        "  #if the input not number, ask user to re-enter\n",
        "  #year. constraint: must be number, len(year) = 4\n",
        "  year_format = False\n",
        "  while not year_format:\n",
        "    print(\"Please enter due year\")\n",
        "    due_year = input()\n",
        "    if not due_year.isdigit():\n",
        "      year_format = False\n",
        "    else:\n",
        "      if len(due_year) == 4:\n",
        "        year_format = True\n",
        "      else:\n",
        "        year_format = False\n",
        "  #month.\n",
        "  month_format = False\n",
        "  while not month_format:\n",
        "    print(\"Please enter due month\")\n",
        "    due_month = input()\n",
        "    #month must be number\n",
        "    if not due_month.isdigit():\n",
        "      month_format = False\n",
        "    else:\n",
        "      #1<= month <=12\n",
        "      if int(due_month) < 1 or int(due_month) > 12:\n",
        "          month_format = False\n",
        "      else:\n",
        "          month_format = True\n",
        "  #day. \n",
        "  day_format = False\n",
        "  while not day_format:\n",
        "    print(\"Please enter due day\")\n",
        "    due_day = input()\n",
        "    if due_day.isdigit():\n",
        "      #January, March, May, July, August, October have 31 days\n",
        "      if int(due_month) == 1 or int(due_month) == 3 or int(due_month) == 5 or int(due_month) == 7 or int(due_month) == 8 or int(due_month) == 10 or int(due_month) == 12:\n",
        "        if int(due_day) < 1 or int(due_day) > 31:\n",
        "          day_format = False\n",
        "        else:\n",
        "          day_format = True\n",
        "      #November, April, June, and September have 30 days\n",
        "      elif int(due_month) == 4 or int(due_month) == 6 or int(due_month) == 9 or int(due_month) == 11:\n",
        "        if int(due_day) < 1 or int(due_day) > 30:\n",
        "          day_format = False\n",
        "        else:\n",
        "          day_format = True\n",
        "      #special February\n",
        "      elif int(due_month) == 2:\n",
        "        #when year % 4 = 0, have 29 days in February\n",
        "        if int(due_year) % 4 == 0:\n",
        "          if int(due_day) < 1 or int(due_day) > 29:\n",
        "            day_format = False\n",
        "          else:\n",
        "            day_format = True\n",
        "        #else have 28 days in February\n",
        "        else:\n",
        "          if int(due_day) < 1 or int(due_day) > 28:\n",
        "            day_format = False\n",
        "          else:\n",
        "            day_format = True\n",
        "  due_date = datetime.date(int(due_year), int(due_month), int(due_day))\n",
        "  print(\"Due date of this task:\",due_date)\n",
        "  mid_task.append(due_date)\n",
        "  #get a 2 dimensional list\n",
        "  task.append(mid_task)\n",
        "\n",
        "schedule_unsort= pd.DataFrame(task, columns=['content', 'due'])\n",
        "schedule = schedule_unsort.sort_values(by=[\"due\"],ignore_index=True)\n",
        "print()\n",
        "print()\n",
        "print(\"This is my schedule:\")\n",
        "print(schedule)\n",
        "\n",
        "\n",
        "\n",
        "\n",
        "  "
      ]
    }
  ],
  "metadata": {
    "kernelspec": {
      "display_name": "Python 3",
      "language": "python",
      "name": "python3"
    },
    "language_info": {
      "codemirror_mode": {
        "name": "ipython",
        "version": 3
      },
      "file_extension": ".py",
      "mimetype": "text/x-python",
      "name": "python",
      "nbconvert_exporter": "python",
      "pygments_lexer": "ipython3",
      "version": "3.7.3"
    },
    "colab": {
      "name": "[cq2039]_class2_homework.ipynb",
      "provenance": [],
      "collapsed_sections": []
    }
  },
  "nbformat": 4,
  "nbformat_minor": 0
}