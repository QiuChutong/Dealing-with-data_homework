{
  "cells": [
    {
      "cell_type": "markdown",
      "metadata": {
        "id": "ZB7PZ5Ccn6hQ"
      },
      "source": [
        "## To submit this assignment, please answer the following questions. Then, save your notebook with the format [NETID]\\_class6_homework and submit via Brightspace. "
      ]
    },
    {
      "cell_type": "markdown",
      "metadata": {
        "id": "bdRmU42Bn6hS"
      },
      "source": [
        "---"
      ]
    },
    {
      "cell_type": "markdown",
      "metadata": {
        "id": "qBYWWQjGn6hS"
      },
      "source": [
        "### Problem 1 (10 points):"
      ]
    },
    {
      "cell_type": "markdown",
      "metadata": {
        "id": "G55Jyd9SjuXf"
      },
      "source": [
        "### Go to http://www.stern.nyu.edu/faculty/search_name_form/ and write a script to parse all of the email address. \n",
        "\n",
        "There may be a few email address with spelling errors – you want your regular expression to exclude those. \n",
        "\n",
        "Here's a bit of a hint to get you started: "
      ]
    },
    {
      "cell_type": "code",
      "execution_count": 1,
      "metadata": {
        "id": "bPUJa9ecjuXg"
      },
      "outputs": [],
      "source": [
        "import requests\n",
        "url = 'http://www.stern.nyu.edu/faculty/search_name_form'\n",
        "\n",
        "html = requests.get(url).text\n",
        "\n"
      ]
    },
    {
      "cell_type": "code",
      "execution_count": 14,
      "metadata": {
        "id": "26tnvojBjuXh",
        "colab": {
          "base_uri": "https://localhost:8080/"
        },
        "outputId": "1774214c-b27c-4e73-b134-544a9e48c653"
      },
      "outputs": [
        {
          "output_type": "stream",
          "name": "stdout",
          "text": [
            "The email address of the stern faculty:\n",
            "icd3@stern.nyu.edu, sc71@stern.nyu.edu, abs9397@stern.nyu.edu, bds262@stern.nyu.edu, jl9@stern.nyu.edu, rhealy@stern.nyu.edu, cm119@stern.nyu.edu, mb7456@stern.nyu.edu, mmp221@stern.nyu.edu, ec4409@stern.nyu.edu, rlamb@stern.nyu.edu, jsedoc@stern.nyu.edu, grc4@stern.nyu.edu, jac5@stern.nyu.edu, jc48@stern.nyu.edu, hhw2013@stern.nyu.edu, gcc255@stern.nyu.edu, af131@stern.nyu.edu, at2@stern.nyu.edu, yd18@stern.nyu.edu, rmaldona@stern.nyu.edu, as9@stern.nyu.edu, sb250@stern.nyu.edu, ms4412@stern.nyu.edu, eia1@stern.nyu.edu, ji689@stern.nyu.edu, jaw9624@stern.nyu.edu, ds6844@stern.nyu.edu, jah25@stern.nyu.edu, ma67@stern.nyu.edu, amalin@stern.nyu.edu, rsk2@stern.nyu.edu, vva1@stern.nyu.edu, msn252@stern.nyu.edu, rws225@stern.nyu.edu, jf92@stern.nyu.edu, jfp5@stern.nyu.edu, jw5798@stern.nyu.edu, opettina@stern.nyu.edu, tfg1@stern.nyu.edu, whg1@stern.nyu.edu, cc171@stern.nyu.edu, rshakeir@stern.nyu.edu, pht2001@stern.nyu.edu, ba2201@stern.nyu.edu, rs944@stern.nyu.edu, sl3595@stern.nyu.edu, glc3@stern.nyu.edu, swb4@stern.nyu.edu, chf3@stern.nyu.edu, re21@stern.nyu.edu, rk21@stern.nyu.edu, je47@stern.nyu.edu, tss4@stern.nyu.edu, rps3@stern.nyu.edu, lml262@stern.nyu.edu, gm7@stern.nyu.edu, teg282@stern.nyu.edu, jcm15@stern.nyu.edu, afuster@stern.nyu.edu, jmk11@stern.nyu.edu, sk107@stern.nyu.edu, rayala2@stern.nyu.edu, ar183@stern.nyu.edu, mk126@stern.nyu.edu, hgc1@stern.nyu.edu, ha1@stern.nyu.edu, xc13@stern.nyu.edu, elm1@stern.nyu.edu, tc38@stern.nyu.edu, rfrank@stern.nyu.edu, rs3948@stern.nyu.edu, elo1@stern.nyu.edu, ljw2@stern.nyu.edu, wh463@stern.nyu.edu, dl76@stern.nyu.edu, wynn@stern.nyu.edu, lzicklin@stern.nyu.edu, vd1@stern.nyu.edu, sn15@stern.nyu.edu, vg43@stern.nyu.edu, bb99@stern.nyu.edu, dez1@stern.nyu.edu, es72@stern.nyu.edu, ffabozzi@stern.nyu.edu, ns1102@stern.nyu.edu, jp3532@stern.nyu.edu, cp3@stern.nyu.edu, dg46@stern.nyu.edu, tserdari@stern.nyu.edu, wx2@stern.nyu.edu, eg2425@stern.nyu.edu, aarora@stern.nyu.edu, hf2@stern.nyu.edu, jung@stern.nyu.edu, ya1@stern.nyu.edu, sff2003@stern.nyu.edu, tr2164@stern.nyu.edu, fontana@stern.nyu.edu, ts43@stern.nyu.edu, dtc2000@stern.nyu.edu, sz15@stern.nyu.edu, de2099@stern.nyu.edu, sm128@stern.nyu.edu, nhw1@stern.nyu.edu, sd687@stern.nyu.edu, jr180@stern.nyu.edu, mb4@stern.nyu.edu, aw115@stern.nyu.edu, schoenholtz@stern.nyu.edu, gao2@stern.nyu.edu, lrc5@stern.nyu.edu, jvd326@stern.nyu.edu, paw1@stern.nyu.edu, henry@stern.nyu.edu, mb2995@stern.nyu.edu, jfm2016@stern.nyu.edu, ph476@stern.nyu.edu, gbuckle0@stern.nyu.edu, xc426@stern.nyu.edu, bab13@stern.nyu.edu, yt2@stern.nyu.edu, js8@stern.nyu.edu, jac4@stern.nyu.edu, ag122@stern.nyu.edu, jas55@stern.nyu.edu, ala8@stern.nyu.edu, jaw8@stern.nyu.edu, as5552@stern.nyu.edu, bmh2001@stern.nyu.edu, rws1@stern.nyu.edu, rjw246@stern.nyu.edu, bz425@stern.nyu.edu, amh22@stern.nyu.edu, rdy1@stern.nyu.edu, rb3873@stern.nyu.edu, jh1626@stern.nyu.edu, asiegman@stern.nyu.edu, mg149@stern.nyu.edu, dy1@stern.nyu.edu, amm22@stern.nyu.edu, dsasson@stern.nyu.edu, ml6862@stern.nyu.edu, eg1@stern.nyu.edu, jr7@stern.nyu.edu, dbs10@stern.nyu.edu, pts3@stern.nyu.edu, gb99@stern.nyu.edu, bgk1@stern.nyu.edu, hg25@stern.nyu.edu, shayes@stern.nyu.edu, schiller@stern.nyu.edu, mi25@stern.nyu.edu, yberson@stern.nyu.edu, iw1@stern.nyu.edu, jw3155@stern.nyu.edu, tp24@stern.nyu.edu, rms220@stern.nyu.edu, dlesh@stern.nyu.edu, abrown@stern.nyu.edu, vs10@stern.nyu.edu, tl1221@stern.nyu.edu, gsb2001@stern.nyu.edu, ggc2014@stern.nyu.edu, ag5@stern.nyu.edu, cps272@stern.nyu.edu, pg1155@stern.nyu.edu, Kuehlwein@stern.nyu.edu, jh3390@stern.nyu.edu, pes2001@stern.nyu.edu, jk144@stern.nyu.edu, skovensk@stern.nyu.edu, jjh18@stern.nyu.edu, ahg2061@stern.nyu.edu, ktesdell@stern.nyu.edu, ncp3@stern.nyu.edu, ltp2@stern.nyu.edu, emp7@stern.nyu.edu, pwk225@stern.nyu.edu, tc28@stern.nyu.edu, al26@stern.nyu.edu, mjg2@stern.nyu.edu, te17@stern.nyu.edu, asarto@stern.nyu.edu, rms2201@stern.nyu.edu, osade@stern.nyu.edu, mm133@stern.nyu.edu, jjy3@stern.nyu.edu, cmh1@stern.nyu.edu, ht29@stern.nyu.edu, rd498@stern.nyu.edu, jcs15@stern.nyu.edu, bh849@stern.nyu.edu, dpoltrac@stern.nyu.edu, sjb3@stern.nyu.edu, tap1@stern.nyu.edu, lgw2@stern.nyu.edu, is4@stern.nyu.edu, hh66@stern.nyu.edu, rmu208@stern.nyu.edu, sr1@stern.nyu.edu, ats1@stern.nyu.edu, pl3@stern.nyu.edu, mac22@stern.nyu.edu, cb172@stern.nyu.edu, jbr2002@stern.nyu.edu, jb7@stern.nyu.edu, howard@stern.nyu.edu, as11475@stern.nyu.edu, ctc5@stern.nyu.edu, mas28@stern.nyu.edu, msaid@stern.nyu.edu, ab4775@stern.nyu.edu, cn25@stern.nyu.edu, csc1@stern.nyu.edu, ck3260@stern.nyu.edu, ca85@stern.nyu.edu, fpg1@stern.nyu.edu, sf14@stern.nyu.edu, js4281@stern.nyu.edu, il26@stern.nyu.edu, az43@stern.nyu.edu, brandenburger@stern.nyu.edu, sjs12@stern.nyu.edu, ab862@stern.nyu.edu, raveesh@stern.nyu.edu, jvickery@stern.nyu.edu, jpeck@stern.nyu.edu, ajt10@stern.nyu.edu, vtg207@stern.nyu.edu, hs1147@stern.nyu.edu, rsd1@stern.nyu.edu, ow13@stern.nyu.edu, rld1@stern.nyu.edu, jy38@stern.nyu.edu, kk88@stern.nyu.edu, als455@stern.nyu.edu, rim@stern.nyu.edu, kj1@stern.nyu.edu, villalonga@stern.nyu.edu, swr1@stern.nyu.edu, mkb2045@stern.nyu.edu, lf51@stern.nyu.edu, jrd2006@stern.nyu.edu, sg3634@stern.nyu.edu, jk101@stern.nyu.edu, jeg279@stern.nyu.edu, saa558@stern.nyu.edu, rmh1@stern.nyu.edu, dms15@stern.nyu.edu, kjk4@stern.nyu.edu, daa249@stern.nyu.edu, jsb376@stern.nyu.edu, ig18@stern.nyu.edu, lp1120@stern.nyu.edu, fd37@stern.nyu.edu, dmp222@stern.nyu.edu, sgl2007@stern.nyu.edu, sl2549@stern.nyu.edu, rkavesh@stern.nyu.edu, jz31@stern.nyu.edu, as5275@stern.nyu.edu, zs1@stern.nyu.edu, fjm1@stern.nyu.edu, gp74@stern.nyu.edu, meb227@stern.nyu.edu, sundaram@stern.nyu.edu, je44@stern.nyu.edu, jss2@stern.nyu.edu, nl28@stern.nyu.edu, blancast@stern.nyu.edu, pkr228@stern.nyu.edu, ams45@stern.nyu.edu, dse2017@stern.nyu.edu, ark8@stern.nyu.edu, jh4@stern.nyu.edu, franklin@stern.nyu.edu, dh99@stern.nyu.edu, jar5@stern.nyu.edu, jsf8@stern.nyu.edu, rcs10@stern.nyu.edu, emg11@stern.nyu.edu, vbedi@stern.nyu.edu, sdm6@stern.nyu.edu, pg45@stern.nyu.edu, tlg8@stern.nyu.edu, pz1@stern.nyu.edu, mj85@stern.nyu.edu, dm3@stern.nyu.edu, at106@stern.nyu.edu, em101@stern.nyu.edu, apa1@stern.nyu.edu, pal5@stern.nyu.edu, bt577@stern.nyu.edu, rb159@stern.nyu.edu, ljr2085@stern.nyu.edu, jvd228@stern.nyu.edu, ms3@stern.nyu.edu, ewm1@stern.nyu.edu, am7@stern.nyu.edu, bsb2@stern.nyu.edu, mak21@stern.nyu.edu, gjk3@stern.nyu.edu, jwe2002@stern.nyu.edu, rm139@stern.nyu.edu, gg501@stern.nyu.edu, ak5@stern.nyu.edu, rjr10@stern.nyu.edu, kpc1@stern.nyu.edu, mjm47@stern.nyu.edu, wdg1@stern.nyu.edu, vv20@stern.nyu.edu, mr6110@stern.nyu.edu, fsm2003@stern.nyu.edu, lmm15@stern.nyu.edu, sd147@stern.nyu.edu, xl23@stern.nyu.edu, rs5@stern.nyu.edu, pi1@stern.nyu.edu, talbanes@stern.nyu.edu, skoonin@stern.nyu.edu, deanwhitelaw@stern.nyu.edu, pr2002@stern.nyu.edu, ys32@stern.nyu.edu, jk98@stern.nyu.edu, dc214@stern.nyu.edu, ys2087@stern.nyu.edu, akb214@stern.nyu.edu, pmelton@stern.nyu.edu, at1@stern.nyu.edu, mpl7@stern.nyu.edu, jo2@stern.nyu.edu, prn2@stern.nyu.edu, mw134@stern.nyu.edu, mlp5@stern.nyu.edu, sgallowa@stern.nyu.edu, ez7@stern.nyu.edu, eje1@stern.nyu.edu, ad3@stern.nyu.edu, smg16@stern.nyu.edu, mnd204@stern.nyu.edu, sth7@stern.nyu.edu, gc59@stern.nyu.edu, nr1@stern.nyu.edu, kbalacha@stern.nyu.edu, an1490@stern.nyu.edu, mgb2000@stern.nyu.edu, lwalker@stern.nyu.edu, yb6@stern.nyu.edu, ak199@stern.nyu.edu, tm57@stern.nyu.edu, zzhou@stern.nyu.edu, nd21@stern.nyu.edu, gupta@stern.nyu.edu, gsf2@stern.nyu.edu, czazzara@stern.nyu.edu, rct232@stern.nyu.edu, rcarty@stern.nyu.edu, jnc2@stern.nyu.edu, gec2033@stern.nyu.edu, rg17@stern.nyu.edu, holmes@stern.nyu.edu, jhur@stern.nyu.edu, schnabl@stern.nyu.edu, mpr2@stern.nyu.edu, kb691@stern.nyu.edu, nse1@stern.nyu.edu, mhp7@stern.nyu.edu, rb4146@stern.nyu.edu, rsw5@stern.nyu.edu, xm4@stern.nyu.edu, kb13@stern.nyu.edu, fjp3@stern.nyu.edu, tp57@stern.nyu.edu, turetsky@stern.nyu.edu, cbh209@stern.nyu.edu, ri238@stern.nyu.edu, mad438@stern.nyu.edu, mreingan@stern.nyu.edu, pr69@stern.nyu.edu, awl1@stern.nyu.edu, dlucca@stern.nyu.edu, shg2063@stern.nyu.edu, vps3@stern.nyu.edu, eb8@stern.nyu.edu, dap14@stern.nyu.edu, jl12195@stern.nyu.edu, ad4@stern.nyu.edu, aw3@stern.nyu.edu, rdf1@stern.nyu.edu, sf3@stern.nyu.edu, cdixon@stern.nyu.edu, lme246@stern.nyu.edu, hm35@stern.nyu.edu, maj2@stern.nyu.edu, rlevine@stern.nyu.edu, jb71@stern.nyu.edu, rw77@stern.nyu.edu, komiyama@stern.nyu.edu, rr5@stern.nyu.edu, bmw1@stern.nyu.edu, gbrancac@stern.nyu.edu, lc66@stern.nyu.edu, sj54@stern.nyu.edu, fmilitel@stern.nyu.edu, gs3549@stern.nyu.edu, ldl2@stern.nyu.edu, ortiz@stern.nyu.edu, ag918@stern.nyu.edu, kbrideau@stern.nyu.edu, mpk211@stern.nyu.edu, apb279@stern.nyu.edu, ya27@stern.nyu.edu, bsd3@stern.nyu.edu, ks123@stern.nyu.edu, pm119@stern.nyu.edu, grs8@stern.nyu.edu, gv18@stern.nyu.edu, ychen@stern.nyu.edu, jfargis@stern.nyu.edu, as3631@stern.nyu.edu, mjd19@stern.nyu.edu, mbb7@stern.nyu.edu, jf2035@stern.nyu.edu, jpb286@stern.nyu.edu, dc1393@stern.nyu.edu, pm130@stern.nyu.edu, cschrege@stern.nyu.edu, pg2277@stern.nyu.edu, bah8@stern.nyu.edu, spd3@stern.nyu.edu, rl4@stern.nyu.edu, brh2026@stern.nyu.edu, ld77@stern.nyu.edu, dcj2@stern.nyu.edu, bil1@stern.nyu.edu, sperkins@stern.nyu.edu, arun@stern.nyu.edu, al74@stern.nyu.edu\n"
          ]
        }
      ],
      "source": [
        "import re\n",
        "emails = set() # set doesn't allow for duplicates, FYI\n",
        "# your code here\n",
        "\n",
        "pattern = r'\\w+@(\\w+\\.)+\\w+'\n",
        "\n",
        "regex = re.compile(pattern)\n",
        "# your code here \n",
        "\n",
        "matches = regex.finditer(html)\n",
        "# your code here \n",
        "for em in matches:\n",
        "  new_email = em.group()\n",
        "  emails.add(new_email)\n",
        "\n",
        "print(\"The email address of the stern faculty:\")\n",
        "print(\", \".join(emails))"
      ]
    }
  ],
  "metadata": {
    "kernelspec": {
      "display_name": "Python 3",
      "language": "python",
      "name": "python3"
    },
    "language_info": {
      "codemirror_mode": {
        "name": "ipython",
        "version": 3
      },
      "file_extension": ".py",
      "mimetype": "text/x-python",
      "name": "python",
      "nbconvert_exporter": "python",
      "pygments_lexer": "ipython3",
      "version": "3.7.3"
    },
    "colab": {
      "name": "[cq2039]_class6_homework.ipynb",
      "provenance": [],
      "collapsed_sections": []
    }
  },
  "nbformat": 4,
  "nbformat_minor": 0
}