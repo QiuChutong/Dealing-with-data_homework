{
  "cells": [
    {
      "cell_type": "markdown",
      "metadata": {
        "id": "_G82cKezmjaM"
      },
      "source": [
        "## To submit this assignment, please answer the following questions. Then, save your notebook with the format [NETID]\\_class3_homework and submit via Brightspace. "
      ]
    },
    {
      "cell_type": "markdown",
      "metadata": {
        "id": "EnmNouNGmjaO"
      },
      "source": [
        "---"
      ]
    },
    {
      "cell_type": "markdown",
      "metadata": {
        "id": "N6AAIS7CmjaO"
      },
      "source": [
        "### Problem 1 (5 points): \n",
        "Write a program that creates a shopping list of at least 5 items using user input. \n",
        "\n",
        "> 2 points: The user must be able to add to the list and view the updated list as a comma-separated group of items after adding to it.\n",
        "\n",
        "> 2 points: the user must be able to remove items from the list and view the updated list as a comma-separated group of items after removing something from it\n",
        "\n",
        "> 1 point: the user must be able to tell the program to end"
      ]
    },
    {
      "cell_type": "code",
      "execution_count": 30,
      "metadata": {
        "id": "85pdftw7mjaP",
        "colab": {
          "base_uri": "https://localhost:8080/"
        },
        "outputId": "2d74cc97-73e1-404a-cdc5-1c905512bf4b"
      },
      "outputs": [
        {
          "output_type": "stream",
          "name": "stdout",
          "text": [
            "Please input the new items. Please separate multiple items with comma. Enter 'None' if no new items need to be added\n",
            "miLK\n",
            "Reminder: milk is already in shopping list\n",
            "Please input the new items. Please separate multiple items with comma. Enter 'None' if no new items need to be added\n",
            "potato\n",
            "Please input the new items. Please separate multiple items with comma. Enter 'None' if no new items need to be added\n",
            "tomato, ICE cream, strawberry,pasta\n",
            "Please input the new items. Please separate multiple items with comma. Enter 'None' if no new items need to be added\n",
            "None\n",
            "Please enter the items that you want to delete. Please separate multiple items with comma. Enter 'None' if no item need to be deleted\n",
            "Phone\n",
            "Error: phone is not in shopping list\n",
            "Please enter the items that you want to delete. Please separate multiple items with comma. Enter 'None' if no item need to be deleted\n",
            "beef, WATER,battery\n",
            "Error: beef is not in shopping list\n",
            "Error: battery is not in shopping list\n",
            "Please enter the items that you want to delete. Please separate multiple items with comma. Enter 'None' if no item need to be deleted\n",
            "None\n",
            "This is your new shopping list: ['milk', 'potato', 'tomato', 'ice cream', 'strawberry', 'pasta']\n"
          ]
        }
      ],
      "source": [
        "# your code here\n",
        "#original shopping list\n",
        "shopping_list = [\"milk\",\"water\"]\n",
        "add_item = True\n",
        "#loop to add new item\n",
        "while add_item:\n",
        "  #introduction of input\n",
        "  print(\"Please input the new items. Please separate multiple items with comma. Enter 'None' if no new items need to be added\")\n",
        "  #change all the string to lowercase\n",
        "  new_item = input().lower()\n",
        "  #if user enter 'None', it means there is no new item to add\n",
        "  if new_item == \"none\":\n",
        "    add_item = False\n",
        "  #extend shopping_list with the list(new_item_sub_list) get from the input\n",
        "  else:\n",
        "    new_item_sub_list = new_item.split(\",\")\n",
        "    #remove the blank in strings\n",
        "    add_no_blank = []\n",
        "    for ni in new_item_sub_list:\n",
        "      nn = ni.strip()\n",
        "      add_no_blank.append(nn)\n",
        "    for anb in add_no_blank:\n",
        "      #if this item is a new item, then add to shopping list\n",
        "      if anb not in shopping_list:\n",
        "        shopping_list.append(anb)\n",
        "      #if this item already in shopping list, remind it, then do not add this item and move to next item\n",
        "      else:\n",
        "        print(\"Reminder:\",anb,\"is already in shopping list\")\n",
        "        continue\n",
        "  \n",
        "delete_item = True\n",
        "while delete_item:\n",
        "  #introduction of input\n",
        "  print(\"Please enter the items that you want to delete. Please separate multiple items with comma. Enter 'None' if no item need to be deleted\")\n",
        "  #change all the string to lowercase\n",
        "  delete_item = input().lower()\n",
        "  #if user enter 'None', it means there is no item to delete\n",
        "  if delete_item == \"none\":\n",
        "    delete_item = False\n",
        "  #get the list of all the deleted items from the input\n",
        "  else:\n",
        "    delete_item_sub_list = delete_item.split(\",\")\n",
        "    #remove the blank in strings\n",
        "    delete_no_blank = []\n",
        "    for nb in delete_item_sub_list:\n",
        "      nd = nb.strip()\n",
        "      delete_no_blank.append(nd)\n",
        "    for di in delete_no_blank:\n",
        "      #if the item need to be deleted in the shopping list\n",
        "      if di in shopping_list:\n",
        "        #find all the positions of items that need to be deleted from the shopping list\n",
        "        di_position = shopping_list.index(di)\n",
        "        #delete these items according to their position\n",
        "        shopping_list.pop(di_position)\n",
        "      else:\n",
        "        #if the item need to be deleted not in the shopping list, report error, then solve the next item\n",
        "        print(\"Error:\",di,\"is not in shopping list\")\n",
        "        continue\n",
        "\n",
        "print(\"This is your new shopping list:\",shopping_list)\n",
        "    \n",
        "\n",
        "\n",
        "\n",
        "  "
      ]
    },
    {
      "cell_type": "markdown",
      "metadata": {
        "id": "KJS5dUHUmjaQ"
      },
      "source": [
        "---"
      ]
    },
    {
      "cell_type": "markdown",
      "metadata": {
        "id": "i9M2nI59mjaR"
      },
      "source": [
        "### Problem 2 (2 points):\n",
        "\n",
        "#### Choose your own homework adventure - answer ONE of the following questions completely. \n",
        "\n",
        "(No additional points for extra answers.)\n",
        "\n",
        "> ##### Question 1: Explain the difference between a `list`, a `tuple` and a `set`. Provide a real-world example where it would be more appropriate to use a `list` to store data as compared to a `tuple` or a `set` (comparing to one is good enough).\n",
        "\n",
        "> ##### Question 2: Explain the different between a `dictionary` and a `list`. Provide an real-world example where it would be more appropriate to use a `dictionary` to store data as compared to a `list`. "
      ]
    },
    {
      "cell_type": "markdown",
      "metadata": {
        "id": "xG72-0tDmjaR"
      },
      "source": [
        "1. Difference: 1) List is ordered and changeable. 2) Tuple is ordered but unchangeable. 3) Set is unordered and unchangeable\n",
        "\n",
        "2. Comparison:\n",
        "Take problem1 as example, when use list to store data, because the list is changeable, the items can be added to or deleted from the shopping list directly. And also because the list is ordered, it's easy to find the position of the item and delete it from list. But when use tuple or set to store data, considering that they are unchangeable, a new tuple or set need to be created to store new data. What's worse, the set is unordered, which means is very hard to find the position of the item to be deleted.\n"
      ]
    },
    {
      "cell_type": "markdown",
      "metadata": {
        "id": "tuqSYP67mjaS"
      },
      "source": [
        "---"
      ]
    },
    {
      "cell_type": "markdown",
      "metadata": {
        "id": "sIk5Bxv-mjaS"
      },
      "source": [
        "### Problem 3 (3 points): \n",
        "\n",
        "Create a nested data structure to store fake data for a real-world use case that is NOT an example we covered in class. \n",
        "\n",
        "It must have a minimum of one nested structure, such as our in-class phone number example where a `list` was nested within a `dictionary`. \n",
        "\n",
        "Print values from each part of the nested structure separately. Describe what each nested level is doing using comments."
      ]
    },
    {
      "cell_type": "code",
      "execution_count": 33,
      "metadata": {
        "id": "upDIoD1omjaT",
        "colab": {
          "base_uri": "https://localhost:8080/"
        },
        "outputId": "348e7025-23f8-491f-d89c-a6cf42cd0c3a"
      },
      "outputs": [
        {
          "output_type": "stream",
          "name": "stdout",
          "text": [
            "first level:\n",
            "{'dma': {'units': ['OPMG', '2350'], 'name': ['decision models and analytics'], 'day': ['Monday', 'Wednesday'], 'instructor': ['Prof Lobel']}, 'dwd': {'units': ['TECH', '2346'], 'name': ['dealing with data'], 'day': ['Thursday'], 'instructor': ['Prof Siegman']}}\n",
            "second levels:\n",
            "{'units': ['OPMG', '2350'], 'name': ['decision models and analytics'], 'day': ['Monday', 'Wednesday'], 'instructor': ['Prof Lobel']}\n",
            "{'units': ['TECH', '2346'], 'name': ['dealing with data'], 'day': ['Thursday'], 'instructor': ['Prof Siegman']}\n",
            "The following are the lists nested with dictionary (take dict 'dwd' as example):\n",
            "course catalog:\n",
            "TECH\n",
            "course number:\n",
            "2346\n",
            "course units:\n",
            "['TECH', '2346']\n",
            "course name:\n",
            "['dealing with data']\n",
            "course day:\n",
            "['Thursday']\n",
            "instructor:\n",
            "['Prof Siegman']\n"
          ]
        }
      ],
      "source": [
        "#a nested data structure to store my course information\n",
        "course = {\n",
        "    \"dma\":{\n",
        "        \"units\": [\"OPMG\",\"2350\"],\n",
        "        \"name\": [\"decision models and analytics\"],\n",
        "        \"day\": [\"Monday\"],\n",
        "        \"instructor\": [\"Prof Lobel\"]\n",
        "    },\n",
        "    \"dwd\":{\n",
        "        \"units\": [\"TECH\",\"2346\"],\n",
        "        \"name\": [\"dealing with data\"],\n",
        "        \"day\": [\"Thursday\",\"Monday\"],\n",
        "        \"instructor\": [\"Prof Siegman\"]\n",
        "    }\n",
        "}\n",
        "\n",
        "#add Wednesday to the day of dma\n",
        "course[\"dma\"][\"day\"].append(\"Wednesday\")\n",
        "#delete Monday from the day of dwd\n",
        "course[\"dwd\"][\"day\"].pop(1)\n",
        "#This is the first level dictionary\n",
        "#The first level contains all the course I registered in stern in this semester. This dictionary contains two dictionaries, which are the two course I registed\n",
        "print(\"first level:\")\n",
        "print(course)\n",
        "#this two dictionary are both the second level dictionary, nested with dictionary \"course\"\n",
        "#dictionary \"dma\" contains all the information of course \"decision models and analytics\"\n",
        "print(\"second levels:\")\n",
        "print(course[\"dma\"])\n",
        "#dictionary \"dwd\" contains all the information of course \"dealing with data\"\n",
        "print(course[\"dwd\"])\n",
        "\n",
        "#take the lists in dict \"dwd\" as the print examples of the lists nested with second level dictionary\n",
        "print(\"The following are the lists nested with dictionary (take dict 'dwd' as example):\")\n",
        "#these are the different print of the \"units\" list nested with dict \"dwd\", this list contains all the information about course units\n",
        "#this is the course catalog of dwd:\n",
        "print(\"course catalog:\")\n",
        "print(course[\"dwd\"][\"units\"][0])\n",
        "#this is the course number of dwd:\n",
        "print(\"course number:\")\n",
        "print(course[\"dwd\"][\"units\"][1])\n",
        "#this is the course units of dwd:\n",
        "print(\"course units:\")\n",
        "print(course[\"dwd\"][\"units\"])\n",
        "#this is the print of the \"name\" list nested with dict \"dwd\", this list contains the entire name of this course\n",
        "#this is the course name of dwd:\n",
        "print(\"course name:\")\n",
        "print(course[\"dwd\"][\"name\"])\n",
        "#this is the print of the \"day\" list nested with dict \"dwd\", this list contains the course day of this course\n",
        "#this is the course day:\n",
        "print(\"course day:\")\n",
        "print(course[\"dwd\"][\"day\"])\n",
        "#this is the print of the \"instructor\" list nested with dict \"dwd\", this list contains the name of instructor of this course\n",
        "#this is the instructor:\n",
        "print(\"instructor:\")\n",
        "print(course[\"dwd\"][\"instructor\"])\n",
        "\n"
      ]
    }
  ],
  "metadata": {
    "kernelspec": {
      "display_name": "Python 3",
      "language": "python",
      "name": "python3"
    },
    "language_info": {
      "codemirror_mode": {
        "name": "ipython",
        "version": 3
      },
      "file_extension": ".py",
      "mimetype": "text/x-python",
      "name": "python",
      "nbconvert_exporter": "python",
      "pygments_lexer": "ipython3",
      "version": "3.7.3"
    },
    "colab": {
      "name": "[cq2039]_class3_homework.ipynb",
      "provenance": [],
      "collapsed_sections": []
    }
  },
  "nbformat": 4,
  "nbformat_minor": 0
}