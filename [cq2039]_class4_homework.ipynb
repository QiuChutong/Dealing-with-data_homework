{
  "cells": [
    {
      "cell_type": "markdown",
      "metadata": {
        "id": "k2KxDaUkm9l9"
      },
      "source": [
        "## To submit this assignment, please answer the following questions. Then, save your notebook with the format [NETID]\\_class4_homework and submit via Brightspace. "
      ]
    },
    {
      "cell_type": "markdown",
      "metadata": {
        "id": "gRu-Foa0m9l_"
      },
      "source": [
        "---"
      ]
    },
    {
      "cell_type": "markdown",
      "metadata": {
        "id": "dsqSq5b-m9l_"
      },
      "source": [
        "### Problem 1 (5 points): \n",
        "\n",
        "Update your shopping list program from last week's homework to use a `while` statement, enabling users to add/remove as many items as they wish to their shopping list.\n",
        "\n",
        "> 3 points: The user must be able to add items to and remove items from the list. The program must display the updated list after each add/remove.\n",
        "\n",
        "> 1 point: the user must be able to tell the program to end\n",
        "\n",
        "> 1 point: the program must prevent program errors from occuring due to bad user input"
      ]
    },
    {
      "cell_type": "code",
      "execution_count": 33,
      "metadata": {
        "id": "XHxzU6Z4m9mA",
        "colab": {
          "base_uri": "https://localhost:8080/"
        },
        "outputId": "39b15f15-35f4-4cb3-dc8f-05d07fc3b9cd"
      },
      "outputs": [
        {
          "output_type": "stream",
          "name": "stdout",
          "text": [
            "Please input the new items. Please separate multiple items with comma. Enter 'None' if no new items need to be added\n",
            "strawberry, milk, ice cream\n",
            "Error: milk is already in shopping list\n",
            "The new shopping list after this add is: ['milk', 'water', 'strawberry', 'ice cream']\n",
            "Please input the new items. Please separate multiple items with comma. Enter 'None' if no new items need to be added\n",
            "meat,\n",
            "Error: enter blank, please enter the name of item\n",
            "The new shopping list after this add is: ['milk', 'water', 'strawberry', 'ice cream', 'meat']\n",
            "Please input the new items. Please separate multiple items with comma. Enter 'None' if no new items need to be added\n",
            "beef,pork,   ,  \n",
            "Error: enter blank, please enter the name of item\n",
            "Error: enter blank, please enter the name of item\n",
            "The new shopping list after this add is: ['milk', 'water', 'strawberry', 'ice cream', 'meat', 'beef', 'pork']\n",
            "Please input the new items. Please separate multiple items with comma. Enter 'None' if no new items need to be added\n",
            "camera,     ,phone\n",
            "Error: enter blank, please enter the name of item\n",
            "The new shopping list after this add is: ['milk', 'water', 'strawberry', 'ice cream', 'meat', 'beef', 'pork', 'camera', 'phone']\n",
            "Please input the new items. Please separate multiple items with comma. Enter 'None' if no new items need to be added\n",
            "None\n",
            "Add Stop\n",
            "Please enter the items that you want to delete. Please separate multiple items with comma. Enter 'None' if no item need to be deleted\n",
            "cake\n",
            "Error: cake is not in shopping list\n",
            "The new shopping list after this remove is: ['milk', 'water', 'strawberry', 'ice cream', 'meat', 'beef', 'pork', 'camera', 'phone']\n",
            "Please enter the items that you want to delete. Please separate multiple items with comma. Enter 'None' if no item need to be deleted\n",
            "milk,     , computer\n",
            "Error: enter blank, please enter the name of item\n",
            "Error: computer is not in shopping list\n",
            "The new shopping list after this remove is: ['water', 'strawberry', 'ice cream', 'meat', 'beef', 'pork', 'camera', 'phone']\n",
            "Please enter the items that you want to delete. Please separate multiple items with comma. Enter 'None' if no item need to be deleted\n",
            "ice cream,\n",
            "Error: enter blank, please enter the name of item\n",
            "The new shopping list after this remove is: ['water', 'strawberry', 'meat', 'beef', 'pork', 'camera', 'phone']\n",
            "Please enter the items that you want to delete. Please separate multiple items with comma. Enter 'None' if no item need to be deleted\n",
            "beef,    ,pork\n",
            "Error: enter blank, please enter the name of item\n",
            "The new shopping list after this remove is: ['water', 'strawberry', 'meat', 'camera', 'phone']\n",
            "Please enter the items that you want to delete. Please separate multiple items with comma. Enter 'None' if no item need to be deleted\n",
            "meat,camera\n",
            "The new shopping list after this remove is: ['water', 'strawberry', 'phone']\n",
            "Please enter the items that you want to delete. Please separate multiple items with comma. Enter 'None' if no item need to be deleted\n",
            "None\n",
            "Remove stop\n",
            "The final shopping list after all change:\n",
            "['water', 'strawberry', 'phone']\n"
          ]
        }
      ],
      "source": [
        "# your code here\n",
        "#original shopping list\n",
        "shopping_list = [\"milk\",\"water\"]\n",
        "add_item = True\n",
        "#loop to add new item\n",
        "while add_item:\n",
        "  #introduction of input\n",
        "  print(\"Please input the new items. Please separate multiple items with comma. Enter 'None' if no new items need to be added\")\n",
        "  #change all the string to lowercase\n",
        "  new_item = input().lower()\n",
        "  #if user enter 'None', it means there is no new item to add, print the final new shopping list\n",
        "  if new_item == \"none\":\n",
        "    add_item = False\n",
        "    print(\"Add Stop\")\n",
        "  #extend shopping_list with the list(new_item_sub_list) get from the input\n",
        "  else:\n",
        "    new_item_sub_list = new_item.split(\",\")\n",
        "    #remove the blank in strings\n",
        "    add_no_blank = []\n",
        "    for ni in new_item_sub_list:\n",
        "      nn = ni.strip()\n",
        "      add_no_blank.append(nn)\n",
        "    for anb in add_no_blank:\n",
        "      if anb not in shopping_list:\n",
        "        #if this item is blank, remind enter the name\n",
        "        if not anb:\n",
        "          print(\"Error: enter blank, please enter the name of item\")\n",
        "          continue\n",
        "        #if this item is a number, remind enter the name\n",
        "        elif anb.isdigit():\n",
        "          print(\"Error: enter number, please enter the name of item\")\n",
        "          continue\n",
        "        else:\n",
        "          #if this item is a new item and is a string not number nor blank, then add to shopping list\n",
        "          shopping_list.append(anb)\n",
        "      #if this item already in shopping list, remind it, then do not add this item and move to next item\n",
        "      else:\n",
        "        print(\"Error:\",anb,\"is already in shopping list\")\n",
        "        continue\n",
        "    print(\"The new shopping list after this add is:\",shopping_list)\n",
        "  \n",
        "delete_item = True\n",
        "while delete_item:\n",
        "  #introduction of input\n",
        "  print(\"Please enter the items that you want to delete. Please separate multiple items with comma. Enter 'None' if no item need to be deleted\")\n",
        "  #change all the string to lowercase\n",
        "  delete_item = input().lower()\n",
        "  #if user enter 'None', it means there is no item to delete\n",
        "  if delete_item == \"none\":\n",
        "    delete_item = False\n",
        "    print(\"Remove stop\")\n",
        "  #get the list of all the deleted items from the input\n",
        "  elif not delete_item:\n",
        "    print(\"Error: enter blank, please enter the name of item\")\n",
        "    delete_item = True\n",
        "  else:\n",
        "    delete_item_sub_list = delete_item.split(\",\")\n",
        "    #remove the blank in strings\n",
        "    delete_no_blank = []\n",
        "    for nb in delete_item_sub_list:\n",
        "      nd = nb.strip()\n",
        "      delete_no_blank.append(nd)\n",
        "    for di in delete_no_blank:\n",
        "      if not di:\n",
        "        print(\"Error: enter blank, please enter the name of item\")\n",
        "        continue\n",
        "      #if the item need to be deleted in the shopping list\n",
        "      elif di:\n",
        "        if di in shopping_list:\n",
        "          #find all the positions of items that need to be deleted from the shopping list\n",
        "          di_position = shopping_list.index(di)\n",
        "          #delete these items according to their position\n",
        "          shopping_list.pop(di_position)\n",
        "        else:\n",
        "          #if the item need to be deleted not in the shopping list, report error, then solve the next item\n",
        "          print(\"Error:\",di,\"is not in shopping list\")\n",
        "          continue\n",
        "    print(\"The new shopping list after this remove is:\",shopping_list)\n",
        "\n",
        "print(\"The final shopping list after all change:\")\n",
        "print(shopping_list)\n",
        "    \n"
      ]
    },
    {
      "cell_type": "markdown",
      "metadata": {
        "id": "i7k_0LUCm9mB"
      },
      "source": [
        "---"
      ]
    },
    {
      "cell_type": "markdown",
      "metadata": {
        "id": "qWIk2s82m9mB"
      },
      "source": [
        "### Problem 2 (5 points):\n",
        "\n",
        "Create a program that randomly mutates a phrase that a user inputs by add/removing random words.\n",
        "\n",
        "> 2 points: enable a user to input a phrase\n",
        "\n",
        "> 1 point: print 10 variations that add and remove random words to change the phrase - each time the program is run, the variational changes must be different\n",
        "\n",
        "> 1 point: create a user-defined function to create at least one part of the random effect.\n",
        "\n",
        "> 1 point: use the `random` library: https://docs.python.org/3/library/random.html\n",
        "\n",
        "*An example with 2 iterations:*\n",
        "\n",
        "First run\n",
        "\n",
        "`user input` = \"some random phrase\"\n",
        "\n",
        "`first output` = \"some ran in phrase\"\n",
        "\n",
        "`second output` = \"summer in phrase\"\n",
        "\n",
        "Second run\n",
        "\n",
        "`user input` = \"some random phrase\"\n",
        "\n",
        "`first output` = \"some random freeze\"\n",
        "\n",
        "`second output` = \"summer freeze\"\n"
      ]
    },
    {
      "cell_type": "code",
      "execution_count": 109,
      "metadata": {
        "id": "YL3T6hxom9mC",
        "colab": {
          "base_uri": "https://localhost:8080/"
        },
        "outputId": "a35e14d8-a697-4f96-acb6-01e38d464a27"
      },
      "outputs": [
        {
          "output_type": "stream",
          "name": "stdout",
          "text": [
            "This is a test for my code and you may run my code to test again\n",
            "1 try: The new phrase after random change is: This is a test for my code and you may run my to test again\n",
            "2 try: The new phrase after random change is: This is a test for my code and may run my code to test again\n",
            "3 try: The new phrase after random change is: This is a test my code and you may run my code to test again\n",
            "4 try: The new phrase after random change is: This is a test for my code and you may run my code to test\n",
            "5 try: The new phrase after random change is: This is erogh a test for my code and you may run my code to test again\n",
            "6 try: The new phrase after random change is: This is a test for my code and you run my code to test again\n",
            "7 try: The new phrase after random change is: This is a test for my code and you may run my code nbrlf to test again\n",
            "8 try: The new phrase after random change is: This is ktwhu a test for my code and you may run my code to test again\n",
            "9 try: The new phrase after random change is: This is a ebqpi test for my code and you may run my code to test again\n",
            "10 try: The new phrase after random change is: This is a test for my code and you may run my wupvc code to test again\n"
          ]
        }
      ],
      "source": [
        "# your code here\n",
        "import random\n",
        "import string\n",
        "\n",
        "def add(phrase):\n",
        "  #get the new letter wait to add or remove from phrase\n",
        "  new_letter = \"\".join(random.choice(string.ascii_lowercase) for i in range(0,5))\n",
        "  #split the phrase to a list to random choice the index to insert\n",
        "  phrase_list = phrase.split(\" \")\n",
        "  #random choice the index to insert, add_place = len(phrase_list) means add word to the end of phrase, add_place=0 means add word to the start\n",
        "  add_place = random.randint(0,len(phrase_list))\n",
        "  #insert new word to the random choiced place\n",
        "  phrase_list.insert(add_place,new_letter)\n",
        "  #join the list to get new phrase\n",
        "  phrase = \" \".join(phrase_list)\n",
        "  return phrase\n",
        "\n",
        "def remove(phrase):\n",
        "  phrase_list = phrase.split(\" \")\n",
        "  #randomly choice the index to remove\n",
        "  remove_place = random.randint(0,len(phrase_list)-1)\n",
        "  #delete the word at the randomly choiced place\n",
        "  phrase_list.pop(remove_place)\n",
        "  #join the list to get new phrase\n",
        "  phrase = \" \".join(phrase_list)\n",
        "  return phrase\n",
        "\n",
        "#enable users to input a phrase\n",
        "wait_phrase = input()\n",
        "variation = 1\n",
        "while variation <= 10:\n",
        "  phrase = wait_phrase\n",
        "  #random choose from add and remove two functions\n",
        "  choice_function = [add(phrase),remove(phrase)]\n",
        "  new_phrase = random.choice(choice_function)\n",
        "  print(str(variation),\"try: The new phrase after random change is:\",new_phrase)\n",
        "  variation += 1"
      ]
    }
  ],
  "metadata": {
    "kernelspec": {
      "display_name": "Python 3",
      "language": "python",
      "name": "python3"
    },
    "language_info": {
      "codemirror_mode": {
        "name": "ipython",
        "version": 3
      },
      "file_extension": ".py",
      "mimetype": "text/x-python",
      "name": "python",
      "nbconvert_exporter": "python",
      "pygments_lexer": "ipython3",
      "version": "3.7.3"
    },
    "colab": {
      "name": "[cq2039]_class4_homework.ipynb",
      "provenance": [],
      "collapsed_sections": []
    }
  },
  "nbformat": 4,
  "nbformat_minor": 0
}