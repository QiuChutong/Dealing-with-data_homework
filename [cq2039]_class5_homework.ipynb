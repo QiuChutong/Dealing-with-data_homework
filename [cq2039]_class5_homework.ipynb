{
  "cells": [
    {
      "cell_type": "markdown",
      "metadata": {
        "id": "O8j7LmVVncFH"
      },
      "source": [
        "## To submit this assignment, please answer the following questions. Then, save your notebook with the format [NETID]\\_class5_homework and submit via Brightspace. "
      ]
    },
    {
      "cell_type": "markdown",
      "metadata": {
        "id": "wcbUlu_KncFJ"
      },
      "source": [
        "---"
      ]
    },
    {
      "cell_type": "markdown",
      "metadata": {
        "id": "rnOz8Q1_ncFJ"
      },
      "source": [
        "OVERVIEW: Your task in the next set of homework problems are to continue our prep of the Census file for use in a databse. This file will need to execute correctly in performing all the actions to receive full credit."
      ]
    },
    {
      "cell_type": "markdown",
      "metadata": {
        "id": "CQN1WRHJncFK"
      },
      "source": [
        "### **Problem 1 (4 points)**\n",
        "\n",
        "> Create a User Defined Function that removes all other columns from the data set in the nested structure EXCEPT the following columns. The following 29 columns MUST remain in the dataset, and no others:\n",
        ">> 1. Id2\n",
        "2. Number-SEX_AND_AGE_Total_population\n",
        "3. Number-SEX_AND_AGE_Total_population_Under_5_years\n",
        "4. Number-SEX_AND_AGE_Total_population_5_to_9_years\n",
        "5. Number-SEX_AND_AGE_Total_population_10_to_14_years\n",
        "6. Number-SEX_AND_AGE_Total_population_15_to_19_years\n",
        "7. Number-SEX_AND_AGE_Total_population_20_to_24_years\n",
        "8. Number-SEX_AND_AGE_Total_population_25_to_29_years\n",
        "9. Number-SEX_AND_AGE_Total_population_30_to_34_years\n",
        "10. Number-SEX_AND_AGE_Total_population_35_to_39_years\n",
        "11. Number-SEX_AND_AGE_Total_population_40_to_44_years\n",
        "12. Number-SEX_AND_AGE_Total_population_45_to_49_years\n",
        "13. Number-SEX_AND_AGE_Total_population_50_to_54_years\n",
        "14. Number-SEX_AND_AGE_Total_population_55_to_59_years\n",
        "15. Number-SEX_AND_AGE_Total_population_60_to_64_years\n",
        "16. Number-SEX_AND_AGE_Total_population_65_to_69_years\n",
        "17. Number-SEX_AND_AGE_Total_population_70_to_74_years\n",
        "18. Number-SEX_AND_AGE_Total_population_75_to_79_years\n",
        "19. Number-SEX_AND_AGE_Total_population_80_to_84_years\n",
        "20. Number-SEX_AND_AGE_Total_population_85_years_and_over\n",
        "21. Number-SEX_AND_AGE_Male_population\n",
        "22. Number-SEX_AND_AGE_Female_population\n",
        "23. Number-RACE_Race_alone_or_in_combination_with_one_or_more_other_races-4-White\n",
        "24. Number-RACE_Race_alone_or_in_combination_with_one_or_more_other_races-4-Black_or_African_American\n",
        "25. Number-RACE_Race_alone_or_in_combination_with_one_or_more_other_races-4-American_Indian_and_Alaska_Native\n",
        "26. Number-RACE_Race_alone_or_in_combination_with_one_or_more_other_races-4-Asian\n",
        "27. Number-RACE_Race_alone_or_in_combination_with_one_or_more_other_races-4-Native_Hawaiian_and_Other_Pacific_Islander\n",
        "28. Number-RACE_Race_alone_or_in_combination_with_one_or_more_other_races-4-Some_Other_Race\n",
        "29. Number-HISPANIC_OR_LATINO_Total_population_Hispanic_or_Latino_of_any_race"
      ]
    },
    {
      "cell_type": "code",
      "source": [
        "import pandas as pd\n",
        "import re\n",
        "\n",
        "def get_set(keep_list,data_set):\n",
        "  index_list = []\n",
        "  len_data_column = len(data_set.columns.values.tolist()) #get how many column in this dataset\n",
        "  data_set_head_list = [] #regards the above name as the new column name\n",
        "  for j in range(0,len_data_column):\n",
        "    new_check_name = data_set.iloc[:,j][0] #get the string wait to decide whether reserve this column\n",
        "    new_check_name = re.sub(r\"[^\\w\\s]\",\"\",new_check_name).replace(\" \",\"\") #remove all the punctuation in the strings\n",
        "    data_set_head_list.append(new_check_name) #add this string to this list to wait to check whether it is in keep list\n",
        "  for i in range(0,len_data_column):\n",
        "    #if this column name in keep_list, then record its index in index_list\n",
        "    if data_set_head_list[i] in keep_list:\n",
        "      index_list.append(i)\n",
        "    #if this column name not in keep_list, move to the next column name\n",
        "    else:\n",
        "      continue\n",
        "  #return the list that contains all the index of column need to be reserved\n",
        "  new_data_set = data_set.iloc[:,index_list]\n",
        "  #return the new dataset\n",
        "  return new_data_set\n",
        "\n",
        "\n",
        "#keep_list contains all the names of columns need to remain\n",
        "keep_list_1 = [\"Id2\",\"Number-SEX_AND_AGE_Total_population\",\"Number-SEX_AND_AGE_Total_population_Under_5_years\",\"Number-SEX_AND_AGE_Total_population_5_to_9_years\",\"Number-SEX_AND_AGE_Total_population_10_to_14_years\",\"Number-SEX_AND_AGE_Total_population_15_to_19_years\",\"Number-SEX_AND_AGE_Total_population_20_to_24_years\",\"Number-SEX_AND_AGE_Total_population_25_to_29_years\",\"Number-SEX_AND_AGE_Total_population_30_to_34_years\",\"Number-SEX_AND_AGE_Total_population_35_to_39_years\"]\n",
        "keep_list_2 = [\"Number-SEX_AND_AGE_Total_population_40_to_44_years\",\"Number-SEX_AND_AGE_Total_population_45_to_49_years\",\"Number-SEX_AND_AGE_Total_population_50_to_54_years\",\"Number-SEX_AND_AGE_Total_population_55_to_59_years\",\"Number-SEX_AND_AGE_Total_population_60_to_64_years\",\"Number-SEX_AND_AGE_Total_population_65_to_69_years\",\"Number-SEX_AND_AGE_Total_population_70_to_74_years\",\"Number-SEX_AND_AGE_Total_population_75_to_79_years\",\"Number-SEX_AND_AGE_Total_population_80_to_84_years\",\"Number-SEX_AND_AGE_Total_population_85_years_and_over\"]\n",
        "keep_list_3 = [\"Number-SEX_AND_AGE_Male_population\",\"Number-SEX_AND_AGE_Female_population\",\"Number-RACE_Race_alone_or_in_combination_with_one_or_more_other_races-4-White\",\"Number-RACE_Race_alone_or_in_combination_with_one_or_more_other_races-4-Black_or_African_American\",\"Number-RACE_Race_alone_or_in_combination_with_one_or_more_other_races-4-American_Indian_and_Alaska_Native\",\"Number-RACE_Race_alone_or_in_combination_with_one_or_more_other_races-4-Asian\",\"Number-RACE_Race_alone_or_in_combination_with_one_or_more_other_races-4-Native_Hawaiian_and_Other_Pacific_Islander\",\"Number-RACE_Race_alone_or_in_combination_with_one_or_more_other_races-4-Some_Other_Race\",\"Number-HISPANIC_OR_LATINO_Total_population_Hispanic_or_Latino_of_any_race\"]\n",
        "keep_list = keep_list_1+keep_list_2+keep_list_3\n",
        "\n",
        "#remove all the punctuation in the strings in keep list\n",
        "for t in range(0,len(keep_list)):\n",
        "  keep_list[t] = re.sub(r\"[^\\w\\s]\",\"\",keep_list[t]).replace(\"_\",\"\")\n",
        "#read file\n",
        "data_set = pd.read_csv(\"/content/raw_census_2010.csv\")\n",
        "#use function\n",
        "new_data_set = get_set(keep_list,data_set)\n",
        "#write new dataset into a csv file\n",
        "new_data_set.to_csv(\"new_census_2010.csv\",index=False)\n"
      ],
      "metadata": {
        "id": "7C9-HZfPK0y_"
      },
      "execution_count": 110,
      "outputs": []
    },
    {
      "cell_type": "markdown",
      "metadata": {
        "id": "e0upgPO6ncFL"
      },
      "source": [
        "---"
      ]
    },
    {
      "cell_type": "markdown",
      "metadata": {
        "id": "Vvz26hcuncFM"
      },
      "source": [
        "### **Problem 2 (1 point)**\n",
        "\n",
        "> Create a User Defined Function that transforms your nested data structure back into a string so it can be written to a file as a Comma-Separated-Values (CSV) file."
      ]
    },
    {
      "cell_type": "code",
      "source": [
        "import csv\n",
        "\n",
        "def into_csv(sub_list):\n",
        "  each_line = []\n",
        "  #use category and shopping list as the first column\n",
        "  each_line.append(sub_list[0])\n",
        "  #use all the shopping items as the second item, use join to turn sub_sub_list to a string\n",
        "  new_content = \", \".join(sub_list[1])\n",
        "  each_line.append(new_content)\n",
        "  #write this list as a new line into csv file, each_line[0] is the first column, each_line[1] is the second column\n",
        "  with open(\"problem2.csv\", \"a+\", newline='') as f:\n",
        "    writer = csv.writer(f)\n",
        "    writer.writerow(each_line)\n",
        "  return \n",
        "\n",
        "#this is my nested structure\n",
        "nested_list = [\n",
        "               [\"category\",[\"item 1\",\"item 2\",\"item 3\"]],\n",
        "               [\"shopping list 1\",[\"apple\",\"orange\",\"banana\"]],\n",
        "               [\"shopping list 2\",[\"water\",\"coke\",\"wine\"]],\n",
        "               [\"shopping list 3\",[\"milk\",\"pancake\",\"cake\"]],\n",
        "               [\"shopping list 4\",[\"beef\",\"pork\",\"lamb\"]]\n",
        "]\n",
        "\n",
        "#use function sub_list for each sub list\n",
        "for sub_list in nested_list:\n",
        "  into_csv(sub_list)\n",
        "  \n",
        "\n"
      ],
      "metadata": {
        "id": "R06DM6-EZkO5"
      },
      "execution_count": 111,
      "outputs": []
    }
  ],
  "metadata": {
    "kernelspec": {
      "display_name": "Python 3",
      "language": "python",
      "name": "python3"
    },
    "language_info": {
      "codemirror_mode": {
        "name": "ipython",
        "version": 3
      },
      "file_extension": ".py",
      "mimetype": "text/x-python",
      "name": "python",
      "nbconvert_exporter": "python",
      "pygments_lexer": "ipython3",
      "version": "3.7.3"
    },
    "colab": {
      "name": "[cq2039]_class5_homework.ipynb",
      "provenance": [],
      "collapsed_sections": []
    }
  },
  "nbformat": 4,
  "nbformat_minor": 0
}